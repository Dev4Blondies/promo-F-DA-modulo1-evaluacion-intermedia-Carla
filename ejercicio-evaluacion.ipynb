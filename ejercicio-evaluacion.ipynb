{
 "cells": [
  {
   "cell_type": "markdown",
   "metadata": {},
   "source": [
    "                                     Strings    \n",
    "1. Dada una cadena de texto, contar cuántas veces aparece una letra específica en ella. Usa un input para que el usuario elija la letra a buscar"
   ]
  },
  {
   "cell_type": "code",
   "execution_count": null,
   "metadata": {},
   "outputs": [],
   "source": [
    "cadena = input('')\n",
    "print(cadena.count('a'))"
   ]
  },
  {
   "cell_type": "markdown",
   "metadata": {},
   "source": [
    "2. Escribe un programa que tome la siguiente cadena de texto y reemplace una palabra específica por otra palabra. La palabra a reemplazar y reemplazada deben ser elegidas por el usuario."
   ]
  },
  {
   "cell_type": "code",
   "execution_count": null,
   "metadata": {},
   "outputs": [],
   "source": [
    "cadena1 = input('')\n",
    "print(cadena1)\n",
    "\n",
    "cadena2 = cadena1.replace(('genial'), ('cansino'))\n",
    "print(cadena2)"
   ]
  },
  {
   "cell_type": "markdown",
   "metadata": {},
   "source": [
    "3. Toma la siguiente oración y divídela en una lista de palabras. Luego, únelas nuevamente en una sola cadena de texto.\n",
    "\n",
    "oracion = \"Esto es una oración de ejemplo\""
   ]
  },
  {
   "cell_type": "code",
   "execution_count": null,
   "metadata": {},
   "outputs": [],
   "source": [
    "oracion = \"Esto es una oración de ejemplo\"\n",
    "print(oracion.split(','))\n",
    "print(oracion.join(''))\n"
   ]
  },
  {
   "cell_type": "markdown",
   "metadata": {},
   "source": [
    "4. Desarrolla un programa que cuente cuántas palabras hay en la siguiente frase.\n",
    "cadena = \"Esta es una cadena con cinco palabras\""
   ]
  },
  {
   "cell_type": "code",
   "execution_count": null,
   "metadata": {},
   "outputs": [],
   "source": [
    "cadena3 = \"Esta es una cadena con cinco palabras\"\n",
    "contador_de_palabras = len(cadena3.split())\n",
    "print(\"Aquí hay \" + str(contador_de_palabras) + \" palabras\")"
   ]
  },
  {
   "cell_type": "markdown",
   "metadata": {},
   "source": [
    "5. Escribe un programa que invierta una cadena de texto dada por un usuario. Mira el siguiente ejemplo para entender lo que se pide:"
   ]
  },
  {
   "cell_type": "code",
   "execution_count": null,
   "metadata": {},
   "outputs": [],
   "source": [
    "cadena_texto = input('')\n",
    "print(cadena_texto)\n",
    "\n",
    "cadena_texto = cadena_texto[::-1]\n",
    "print(cadena_texto)"
   ]
  },
  {
   "cell_type": "markdown",
   "metadata": {},
   "source": [
    "6. Crea un programa que busque una palabra específica(elegida por la usuaria) en una cadena de texto e indique su posición."
   ]
  },
  {
   "cell_type": "code",
   "execution_count": null,
   "metadata": {},
   "outputs": [],
   "source": [
    "frase = \"me gusta aprender Python\"\n",
    "print(frase.find('Python'))\n"
   ]
  },
  {
   "cell_type": "markdown",
   "metadata": {},
   "source": [
    "                                Listas\n",
    "1. Dada la siguiente lista: frutas = ['manzana', 'pera', 'banana', 'uva', 'kiwi'], realiza lo siguiente:\n",
    "a) Reemplaza el segundo elemento con 'durazno'.\n",
    "b) Agrega 'naranja' al final de la lista.\n",
    "c) Extrae y muestra por pantalla el tercer elemento de la lista."
   ]
  },
  {
   "cell_type": "code",
   "execution_count": null,
   "metadata": {},
   "outputs": [],
   "source": [
    "frutas = ['manzana', 'pera', 'banana', 'uva', 'kiwi']\n",
    "frutas[1]= 'durazno'\n",
    "print(frutas)\n",
    "\n",
    "frutas.append('naranja')\n",
    "print(frutas)\n",
    "\n",
    "extraccion = frutas[3]\n",
    "print(extraccion)"
   ]
  },
  {
   "cell_type": "markdown",
   "metadata": {},
   "source": [
    "2. Crea una lista llamada numeros que contenga los siguientes valores: 10, 25, 15, 30, 20."
   ]
  },
  {
   "cell_type": "code",
   "execution_count": null,
   "metadata": {},
   "outputs": [],
   "source": [
    "numeros = [10, 25, 15, 30, 20]"
   ]
  },
  {
   "cell_type": "markdown",
   "metadata": {},
   "source": [
    "3. Agrega el valor 35 al incio de la lista numeros."
   ]
  },
  {
   "cell_type": "code",
   "execution_count": null,
   "metadata": {},
   "outputs": [],
   "source": [
    "numeros = [10, 25, 15, 30, 20]\n",
    "numeros.insert(0, 35)\n",
    "print(numeros)"
   ]
  },
  {
   "cell_type": "markdown",
   "metadata": {},
   "source": [
    "4. Ordena la lista numeros en orden ascendente."
   ]
  },
  {
   "cell_type": "code",
   "execution_count": null,
   "metadata": {},
   "outputs": [],
   "source": [
    "\n",
    "numeros = [10, 25, 15, 30, 20]\n",
    "print(\"Desordenado: \", numeros )\n",
    "\n",
    "numeros.sort(reverse=True)\n",
    "print(\"Ordenado: \", numeros)"
   ]
  },
  {
   "cell_type": "markdown",
   "metadata": {},
   "source": [
    "5. Dada la siguiente lista numeros2 = [45, 22, 19, 38, 29]. Crea una nueva lista llamada numeros3 donde tengamos la unión de los todos los elementos de las dos listas (numeros y numeros2)"
   ]
  },
  {
   "cell_type": "code",
   "execution_count": null,
   "metadata": {},
   "outputs": [],
   "source": [
    "numeros = [10, 25, 15, 30, 20]\n",
    "numeros2 = [45, 22, 19, 38, 29]\n",
    "numeros3 = numeros + numeros2\n",
    "print(numeros3)"
   ]
  },
  {
   "cell_type": "markdown",
   "metadata": {},
   "source": [
    "6. Elimina el último elemento de la lista numeros3."
   ]
  },
  {
   "cell_type": "code",
   "execution_count": null,
   "metadata": {},
   "outputs": [],
   "source": [
    "numeros3 = [10, 25, 15, 30, 20, 45, 22, 19, 38, 29]\n",
    "numeros3.pop()\n",
    "print(numeros3)"
   ]
  },
  {
   "cell_type": "markdown",
   "metadata": {},
   "source": [
    "7. Elimina el número 30 de la lista numeros3."
   ]
  },
  {
   "cell_type": "code",
   "execution_count": null,
   "metadata": {},
   "outputs": [],
   "source": [
    "numeros3 = [10, 25, 15, 30, 20, 45, 22, 19, 38, 29]\n",
    "numeros3.remove(30)\n",
    "print(numeros3) "
   ]
  },
  {
   "cell_type": "markdown",
   "metadata": {},
   "source": [
    "                                     Tuplas\n",
    "1. Crea una tupla llamada colores que contenga los siguientes valores: 'rojo', 'verde', 'azul', 'amarillo', 'morado'."
   ]
  },
  {
   "cell_type": "code",
   "execution_count": null,
   "metadata": {},
   "outputs": [],
   "source": [
    "tupla = ('rojo', 'verde', 'azul', 'amarillo', 'morado')\n",
    "print(tupla) "
   ]
  },
  {
   "cell_type": "markdown",
   "metadata": {},
   "source": [
    "2. Encuentra el índice de 'verde' en la tupla colores."
   ]
  },
  {
   "cell_type": "code",
   "execution_count": null,
   "metadata": {},
   "outputs": [],
   "source": [
    "tupla = ('rojo', 'verde', 'azul', 'amarillo', 'morado')\n",
    "print(tupla[1])"
   ]
  },
  {
   "cell_type": "markdown",
   "metadata": {},
   "source": [
    "3. ¿Cuántas veces aparece 'azul' en la tupla colores?"
   ]
  },
  {
   "cell_type": "code",
   "execution_count": null,
   "metadata": {},
   "outputs": [],
   "source": [
    "tupla = ('rojo', 'verde', 'azul', 'amarillo', 'morado')\n",
    "print(tupla.count('azul'))"
   ]
  },
  {
   "cell_type": "markdown",
   "metadata": {},
   "source": [
    "4. Añade el color \"morado\" a la tupla colores. ¿Qué ha pasado? ¿Por qué? Como podríamos añadir el elemento \"morado\"."
   ]
  },
  {
   "cell_type": "code",
   "execution_count": null,
   "metadata": {},
   "outputs": [],
   "source": [
    "tupla = ('rojo', 'verde', 'azul', 'amarillo', 'morado')\n",
    "tupla = list(tupla)\n",
    "tupla.append('morado')\n",
    "print(tupla)"
   ]
  },
  {
   "cell_type": "markdown",
   "metadata": {},
   "source": [
    "                                    Diccionarios\n",
    "1. Crea un diccionario llamado frutas con las siguientes parejas clave-valor:\n",
    "'manzana': 2\n",
    "'banana': 3\n",
    "'uva': 5\n",
    "'pera': 4"
   ]
  },
  {
   "cell_type": "code",
   "execution_count": null,
   "metadata": {},
   "outputs": [],
   "source": [
    "frutas = {'manzana': 2, 'banana': 3, 'uva': 5, 'pera': 4}\n",
    "print(frutas)"
   ]
  },
  {
   "cell_type": "markdown",
   "metadata": {},
   "source": [
    "2. Saca una lista de todas las frutas en el diccionario\n"
   ]
  },
  {
   "cell_type": "code",
   "execution_count": null,
   "metadata": {},
   "outputs": [],
   "source": [
    "frutas = {'manzana': 2, 'banana': 3, 'uva': 5, 'pera': 4}\n",
    "lista_frutas = frutas.keys()\n",
    "print(list(lista_frutas))"
   ]
  },
  {
   "cell_type": "markdown",
   "metadata": {},
   "source": [
    "3. Saca una lista de todas las cantidades en el diccionario."
   ]
  },
  {
   "cell_type": "code",
   "execution_count": null,
   "metadata": {},
   "outputs": [],
   "source": [
    "frutas = {'manzana': 2, 'banana': 3, 'uva': 5, 'pera': 4}\n",
    "lista_frutas = frutas.values()\n",
    "print(list(lista_frutas))"
   ]
  },
  {
   "cell_type": "markdown",
   "metadata": {},
   "source": [
    "4. ¿Qué cantidad de 'manzana' tenemos?. Si la clave 'manzana' no está presente, devuelve un mensaje diciendo \"No existe esa clave\"."
   ]
  },
  {
   "cell_type": "code",
   "execution_count": null,
   "metadata": {},
   "outputs": [],
   "source": [
    "frutas = {'manzana': 2, 'banana': 3, 'uva': 5, 'pera': 4}\n",
    "print(frutas.setdefault('manzana'))"
   ]
  },
  {
   "cell_type": "markdown",
   "metadata": {},
   "source": [
    "5. Agrega un nuevo par de clave-valor al diccionario frutas: 'kiwi' con una cantidad de 6."
   ]
  },
  {
   "cell_type": "code",
   "execution_count": null,
   "metadata": {},
   "outputs": [],
   "source": [
    " \n",
    "frutas = {'manzana': 2, 'banana': 3, 'uva': 5, 'pera': 4}\n",
    "frutas.update({\"kiwi\": \"6\"})\n",
    "print(frutas)"
   ]
  },
  {
   "cell_type": "markdown",
   "metadata": {},
   "source": [
    "6. Cambia la cantidad de 'uva' a 8."
   ]
  },
  {
   "cell_type": "code",
   "execution_count": null,
   "metadata": {},
   "outputs": [],
   "source": [
    "frutas['uva'] = 8\n",
    "print(frutas)"
   ]
  },
  {
   "cell_type": "markdown",
   "metadata": {},
   "source": [
    "7. Crea un segundo diccionario llamado frutas_nuevas con las siguientes parejas clave-valor:\n",
    "'sandía': 7\n",
    "'mango': 4"
   ]
  },
  {
   "cell_type": "code",
   "execution_count": null,
   "metadata": {},
   "outputs": [],
   "source": [
    "frutas_nuevas = {'sandia': 7, 'mango'  : 4}\n",
    "print(frutas_nuevas)"
   ]
  },
  {
   "cell_type": "markdown",
   "metadata": {},
   "source": [
    "8. Combinar los dos diccionarios frutas_nuevas y frutas en uno nuevos llamado frutas_total."
   ]
  },
  {
   "cell_type": "code",
   "execution_count": null,
   "metadata": {},
   "outputs": [],
   "source": [
    "frutas_total = frutas.copy()\n",
    "frutas_total.update(frutas_nuevas)\n",
    "\n",
    "print(frutas_total)"
   ]
  },
  {
   "cell_type": "markdown",
   "metadata": {},
   "source": [
    "9. Elimina el último par de clave-valor del diccionario fruta_total."
   ]
  },
  {
   "cell_type": "code",
   "execution_count": null,
   "metadata": {},
   "outputs": [],
   "source": [
    "print(frutas.popitem())"
   ]
  },
  {
   "cell_type": "markdown",
   "metadata": {},
   "source": [
    "10. Elimina el par de clave-valor correspondiente a la clave 'uva' del diccionario."
   ]
  },
  {
   "cell_type": "code",
   "execution_count": null,
   "metadata": {},
   "outputs": [],
   "source": [
    "frutas.pop('uva')\n",
    "print(frutas)"
   ]
  },
  {
   "cell_type": "markdown",
   "metadata": {},
   "source": [
    "11. Agregar la fruta 'manzana' con una cantidad de 10 al diccionario. Si ya existe, no se realizarán cambios en los valores que teníamos."
   ]
  },
  {
   "cell_type": "code",
   "execution_count": null,
   "metadata": {},
   "outputs": [],
   "source": [
    "frutas = frutas.setdefault('manzana', [10])\n",
    "print(frutas)"
   ]
  },
  {
   "cell_type": "markdown",
   "metadata": {},
   "source": [
    "12. Combinar métodos de listas y diccionarios:\n",
    "Obtén una lista de todas las cantidades en el diccionario y calcula suma total de las cantidades del diccionario frutas_total.\n",
    "Utilizando la lista creada en el apartado anterior encuentra la cantidad más grande y más pequeña."
   ]
  },
  {
   "cell_type": "code",
   "execution_count": null,
   "metadata": {},
   "outputs": [],
   "source": [
    "frutas = {'manzana': 2, 'banana': 3, 'uva': 8, 'pera': 4, 'kiwi': 6, 'sandia': 7, 'mango': 4}\n",
    "frutas_valores = (frutas.values())\n",
    "print(frutas_valores)\n",
    "\n",
    "print(max(frutas_valores))\n",
    "print(min(frutas_valores))\n",
    "print(sum(frutas_valores))"
   ]
  },
  {
   "cell_type": "markdown",
   "metadata": {},
   "source": [
    "                         Métodos de Sets\n",
    "1. Crea un set llamado conjunto1 con los números del 1 al 5."
   ]
  },
  {
   "cell_type": "code",
   "execution_count": null,
   "metadata": {},
   "outputs": [],
   "source": []
  }
 ],
 "metadata": {
  "kernelspec": {
   "display_name": "base",
   "language": "python",
   "name": "python3"
  },
  "language_info": {
   "name": "python",
   "version": "3.9.7"
  }
 },
 "nbformat": 4,
 "nbformat_minor": 2
}
